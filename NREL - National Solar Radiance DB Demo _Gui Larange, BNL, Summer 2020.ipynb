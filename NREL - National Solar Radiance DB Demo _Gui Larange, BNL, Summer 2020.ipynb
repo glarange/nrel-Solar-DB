{
 "cells": [
  {
   "cell_type": "markdown",
   "metadata": {},
   "source": [
    "### NREL High Res (5 min) Solar Radiation Database ###"
   ]
  },
  {
   "cell_type": "code",
   "execution_count": 34,
   "metadata": {},
   "outputs": [
    {
     "name": "stdout",
     "output_type": "stream",
     "text": [
      "Requirement already satisfied: h5pyd in c:\\users\\student\\appdata\\roaming\\python\\python37\\site-packages (0.7.1)\n",
      "Requirement already satisfied: numpy>=1.17.3 in c:\\users\\student\\appdata\\roaming\\python\\python37\\site-packages (from h5pyd) (1.18.5)\n",
      "Requirement already satisfied: pytz in c:\\users\\student\\appdata\\roaming\\python\\python37\\site-packages (from h5pyd) (2020.1)\n",
      "Requirement already satisfied: requests in c:\\users\\student\\appdata\\roaming\\python\\python37\\site-packages (from h5pyd) (2.23.0)\n",
      "Requirement already satisfied: chardet<4,>=3.0.2 in c:\\users\\student\\appdata\\roaming\\python\\python37\\site-packages (from requests->h5pyd) (3.0.4)\n",
      "Requirement already satisfied: urllib3!=1.25.0,!=1.25.1,<1.26,>=1.21.1 in c:\\users\\student\\appdata\\roaming\\python\\python37\\site-packages (from requests->h5pyd) (1.25.9)\n",
      "Requirement already satisfied: certifi>=2017.4.17 in c:\\users\\student\\anaconda3\\lib\\site-packages (from requests->h5pyd) (2019.11.28)\n",
      "Requirement already satisfied: idna<3,>=2.5 in c:\\users\\student\\appdata\\roaming\\python\\python37\\site-packages (from requests->h5pyd) (2.9)\n",
      "Note: you may need to restart the kernel to use updated packages.\n"
     ]
    }
   ],
   "source": [
    "pip install h5pyd"
   ]
  },
  {
   "cell_type": "code",
   "execution_count": 35,
   "metadata": {},
   "outputs": [],
   "source": [
    "import h5pyd\n",
    "import pandas as pd"
   ]
  },
  {
   "cell_type": "markdown",
   "metadata": {},
   "source": [
    "Use the h5pyd.File function to open a connection to the server. The path below is to contiguous US territory 5 min. interval solar irradiance for 2018. "
   ]
  },
  {
   "cell_type": "code",
   "execution_count": 37,
   "metadata": {},
   "outputs": [
    {
     "name": "stdout",
     "output_type": "stream",
     "text": [
      "(48.16, -124.73, 66, -8., b'United States', b'Washington', b'Clallam', 444187)\n",
      "(46.56, -67.81, 279, -5., b'United States', b'Maine', b'Aroostook', 6249459)\n"
     ]
    }
   ],
   "source": [
    "f = h5pyd.File('/nrel/nsrdb/2018/nsrdb_conus_2018.h5')\n",
    "meta1 = f['meta'][1]\n",
    "meta2 = f['meta'][2090000]\n",
    "print(meta1)\n",
    "print(meta2)"
   ]
  },
  {
   "cell_type": "markdown",
   "metadata": {},
   "source": [
    "Let's pick GHI (Global Horizontal Irradiance) measure. \"[:,20000]\" gets all timesteps at site index \"20000\".  "
   ]
  },
  {
   "cell_type": "code",
   "execution_count": 12,
   "metadata": {},
   "outputs": [
    {
     "data": {
      "text/html": [
       "<div>\n",
       "<style scoped>\n",
       "    .dataframe tbody tr th:only-of-type {\n",
       "        vertical-align: middle;\n",
       "    }\n",
       "\n",
       "    .dataframe tbody tr th {\n",
       "        vertical-align: top;\n",
       "    }\n",
       "\n",
       "    .dataframe thead th {\n",
       "        text-align: right;\n",
       "    }\n",
       "</style>\n",
       "<table border=\"1\" class=\"dataframe\">\n",
       "  <thead>\n",
       "    <tr style=\"text-align: right;\">\n",
       "      <th></th>\n",
       "      <th>0</th>\n",
       "    </tr>\n",
       "  </thead>\n",
       "  <tbody>\n",
       "    <tr>\n",
       "      <th>0</th>\n",
       "      <td>28</td>\n",
       "    </tr>\n",
       "    <tr>\n",
       "      <th>1</th>\n",
       "      <td>23</td>\n",
       "    </tr>\n",
       "    <tr>\n",
       "      <th>2</th>\n",
       "      <td>19</td>\n",
       "    </tr>\n",
       "    <tr>\n",
       "      <th>3</th>\n",
       "      <td>15</td>\n",
       "    </tr>\n",
       "    <tr>\n",
       "      <th>4</th>\n",
       "      <td>10</td>\n",
       "    </tr>\n",
       "  </tbody>\n",
       "</table>\n",
       "</div>"
      ],
      "text/plain": [
       "    0\n",
       "0  28\n",
       "1  23\n",
       "2  19\n",
       "3  15\n",
       "4  10"
      ]
     },
     "execution_count": 12,
     "metadata": {},
     "output_type": "execute_result"
    }
   ],
   "source": [
    "time_series=f['ghi'][:,20000]\n",
    "ts = pd.DataFrame(time_series)\n",
    "ts.head()"
   ]
  },
  {
   "cell_type": "code",
   "execution_count": 13,
   "metadata": {},
   "outputs": [
    {
     "data": {
      "text/plain": [
       "105120"
      ]
     },
     "execution_count": 13,
     "metadata": {},
     "output_type": "execute_result"
    }
   ],
   "source": [
    "len(time_series)"
   ]
  },
  {
   "cell_type": "markdown",
   "metadata": {},
   "source": []
  },
  {
   "cell_type": "markdown",
   "metadata": {},
   "source": [
    "As expected, there are 24hours / day x 365 days x12 (60min/5min) measurements for 5 min. interval in a year."
   ]
  },
  {
   "cell_type": "code",
   "execution_count": 13,
   "metadata": {},
   "outputs": [
    {
     "data": {
      "text/plain": [
       "105120"
      ]
     },
     "execution_count": 13,
     "metadata": {},
     "output_type": "execute_result"
    }
   ],
   "source": [
    "24*365*12"
   ]
  },
  {
   "cell_type": "markdown",
   "metadata": {},
   "source": [
    "The matrix has approx. 2000000 x 105000 = approx. 200000000000 or over $2^{11}$ datapoints. 200 billion points. "
   ]
  }
 ],
 "metadata": {
  "kernelspec": {
   "display_name": "Python 3",
   "language": "python",
   "name": "python3"
  },
  "language_info": {
   "codemirror_mode": {
    "name": "ipython",
    "version": 3
   },
   "file_extension": ".py",
   "mimetype": "text/x-python",
   "name": "python",
   "nbconvert_exporter": "python",
   "pygments_lexer": "ipython3",
   "version": "3.7.6"
  }
 },
 "nbformat": 4,
 "nbformat_minor": 4
}
